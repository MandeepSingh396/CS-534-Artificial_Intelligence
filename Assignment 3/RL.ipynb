{
 "cells": [
  {
   "cell_type": "code",
   "execution_count": 223,
   "id": "80085429",
   "metadata": {},
   "outputs": [],
   "source": [
    "import csv\n",
    "import numpy as np\n",
    "import copy"
   ]
  },
  {
   "cell_type": "code",
   "execution_count": 224,
   "id": "71e6fa8e",
   "metadata": {},
   "outputs": [],
   "source": [
    "#read csv file function\n",
    "def readCSV(file_address = \"\"):\n",
    "\n",
    "    # default file address\n",
    "    if len(file_address) == 0:\n",
    "        file_address = \"F:\\ML and CV\\WPI_AI\\Assignment_1\\\\board\"\n",
    "\n",
    "    board = []\n",
    "\n",
    "    with open(file_address, mode='r',encoding='utf-8-sig')as file:\n",
    "        csvFile = csv.reader(file)\n",
    "\n",
    "        for lines in csvFile:\n",
    "            board.append(list(lines))\n",
    "\n",
    "        for rows in range(len(board)):\n",
    "            print(board[rows])\n",
    "\n",
    "    file.close()\n",
    "    return board"
   ]
  },
  {
   "cell_type": "code",
   "execution_count": 225,
   "id": "4cb42081",
   "metadata": {},
   "outputs": [
    {
     "name": "stdout",
     "output_type": "stream",
     "text": [
      "['3', '0', '0', 'X', '0']\n",
      "['-2', '0', '0', '0', '0']\n",
      "['S', '0', '0', '0', '0']\n"
     ]
    }
   ],
   "source": [
    "grid = readCSV(file_address = r\"C:\\Users\\Mandeep Singh\\My python\\Artificial Intelligence\\Assignment 3\\Gridworld.csv\")"
   ]
  },
  {
   "cell_type": "code",
   "execution_count": 226,
   "id": "08a514f4",
   "metadata": {},
   "outputs": [],
   "source": [
    "grid_row_size = len(grid)\n",
    "grid_col_size = len(grid[0])\n",
    "for i in range(0, grid_row_size):\n",
    "    for j in range(0, grid_col_size): \n",
    "        if grid[i][j]=='S' or grid[i][j]== 'X':\n",
    "            grid[i][j] = grid[i][j]\n",
    "        else:\n",
    "            grid[i][j] = int(grid[i][j])"
   ]
  },
  {
   "cell_type": "code",
   "execution_count": 227,
   "id": "bc9e42e4",
   "metadata": {},
   "outputs": [],
   "source": [
    "#general parameters(some of them have to be input through command line)\n",
    "alpha = 0.1\n",
    "gamma = 0.9           #command line input required\n",
    "p_up = 1           #command line input required\n",
    "p_down = (1-p_up)/2\n",
    "p_2up = (1-p_up)/2\n",
    "R = 0             #command line input required\n",
    "time = 20             #command line input required"
   ]
  },
  {
   "cell_type": "code",
   "execution_count": 228,
   "id": "4bfae7c7",
   "metadata": {},
   "outputs": [],
   "source": [
    "#find the pits in grid\n",
    "walls = []\n",
    "for i in range(0,grid_row_size):\n",
    "    for j in range(0,grid_col_size):\n",
    "        if grid[i][j] == 'X':\n",
    "            walls.append([i,j])\n",
    "            \n",
    "#find the start point\n",
    "def current_pos(grid):\n",
    "    current_position = []\n",
    "    for i in range(0,grid_row_size):\n",
    "        for j in range(0,grid_col_size):\n",
    "            if grid[i][j] == 'S':\n",
    "                current_position.append([i,j])\n",
    "    return current_position\n",
    "\n",
    "def state_reward(position):\n",
    "    i = position[0]\n",
    "    j = position[1]\n",
    "    if grid[i][j] == 'S' or grid[i][j] == 'X':\n",
    "        reward = 0\n",
    "    else:\n",
    "        reward = grid[i][j]\n",
    "    return reward\n",
    "\n",
    "for i in range(0,grid_row_size):\n",
    "    for j in range(0,grid_col_size):\n",
    "        position = [i,j]\n",
    "#         print(state_reward(position))\n",
    "\n",
    "end_states = []\n",
    "for i in range(0,grid_row_size):\n",
    "    for j in range(0,grid_col_size):\n",
    "        if grid[i][j]!=0 and grid[i][j]!='S':\n",
    "            end_states.append([i,j])"
   ]
  },
  {
   "cell_type": "code",
   "execution_count": 229,
   "id": "e8ae98b3",
   "metadata": {},
   "outputs": [],
   "source": [
    "def takeAction(current_position, direction, walls, grid_row_size, grid_col_size):\n",
    "\n",
    "        new_position = copy.copy(current_position)\n",
    "        if direction == \"up\":\n",
    "            action = np.random.choice(['up', '2up', 'down'], p=[p_up, p_2up, p_down])\n",
    "        if direction == \"down\":\n",
    "            action = np.random.choice(['down', '2down', 'up'], p=[p_up, p_2up, p_down])\n",
    "        if direction == \"left\":\n",
    "            action = np.random.choice(['left', '2left', 'right'], p=[p_up, p_2up, p_down])\n",
    "        if direction == \"right\":\n",
    "            action = np.random.choice(['right', '2right', 'left'], p=[p_up, p_2up, p_down])\n",
    "        \n",
    "        if action == 'up':\n",
    "            new_position[0] += -1\n",
    "        elif action == 'down':\n",
    "            new_position[0] += 1\n",
    "        elif action == 'right':\n",
    "            new_position[1] += 1\n",
    "        elif action == 'left':\n",
    "            new_position[1] += -1\n",
    "        elif action == '2up':\n",
    "            new_position[0] += -1\n",
    "            barrier = new_position in walls or new_position[0] < 0 or new_position[0] >= grid_row_size or new_position[1] < 0 or new_position[1] >= grid_col_size\n",
    "            if not barrier:\n",
    "                current_position = copy.copy(new_position)\n",
    "                new_position[0] += -1\n",
    "        elif action == '2down':\n",
    "            new_position[0] += 1\n",
    "            barrier = new_position in walls or new_position[0] < 0 or new_position[0] >= grid_row_size or new_position[1] < 0 or new_position[1] >= grid_col_size\n",
    "            if not barrier:\n",
    "                current_position = copy.copy(new_position)\n",
    "                new_position[0] += 1\n",
    "        elif action == '2right':\n",
    "            new_position[1] += 1\n",
    "            barrier = new_position in walls or new_position[0] < 0 or new_position[0] >= grid_row_size or new_position[1] < 0 or new_position[1] >= grid_col_size\n",
    "            if not barrier:\n",
    "                current_position = copy.copy(new_position)\n",
    "                new_position[1] += 1\n",
    "        elif action == '2left':\n",
    "            new_position[1] += -1\n",
    "            barrier = new_position in walls or new_position[0] < 0 or new_position[0] >= grid_row_size or new_position[1] < 0 or new_position[1] >= grid_col_size\n",
    "            if not barrier:\n",
    "                current_position = copy.copy(new_position)\n",
    "                new_position[1] += -1\n",
    "\n",
    "        barrier = new_position in walls or new_position[0] < 0 or new_position[0] >= grid_row_size or new_position[1] < 0 or new_position[1] >= grid_col_size\n",
    "\n",
    "        if not barrier:\n",
    "            current_position = new_position\n",
    "\n",
    "        return current_position\n"
   ]
  },
  {
   "cell_type": "code",
   "execution_count": 230,
   "id": "b5d4e29b",
   "metadata": {},
   "outputs": [],
   "source": [
    "class state:\n",
    "    def __init__(self,position,Q_val):\n",
    "        self.position = position\n",
    "        self.Q_val = Q_val\n",
    "        self.reward = state_reward(self.position)\n",
    "        \n",
    "states = []\n",
    "for i in range(0,grid_row_size):\n",
    "    for j in range(0,grid_col_size):\n",
    "        position = [i,j]\n",
    "        state_curr = state(position,[0,0,0,0])\n",
    "        states.append(state_curr)\n",
    "        \n",
    "        \n",
    "action = [\"up\",\"down\", \"left\", \"right\"]\n",
    "\n",
    "counter = 30\n",
    "for j in range(0,counter):\n",
    "    grid_states = copy.deepcopy(states)\n",
    "    for i in range(0,len(grid_states)):\n",
    "        current_state = grid_states[i]\n",
    "        current_position = current_state.position\n",
    "        if current_position in end_states:\n",
    "#             print([i],\"  \",current_state.Q_val)\n",
    "            continue\n",
    "        else:\n",
    "            for k in range(0,4):\n",
    "                next_position = takeAction(current_position, action[k], walls, grid_row_size, grid_col_size)\n",
    "                for l in range(0,len(states)):\n",
    "                    if next_position == states[l].position:\n",
    "                        next_state = states[l]\n",
    "                        if next_state.position!=current_state.position:\n",
    "                            ind = next_state.Q_val.index(max(next_state.Q_val))\n",
    "                            current_state.Q_val[k] = current_state.Q_val[k] + alpha*((R+next_state.reward) + gamma*next_state.Q_val[ind] - current_state.Q_val[k])\n",
    "                            break\n",
    "                        else:\n",
    "                            continue\n",
    "#     print(\"-------------\")\n",
    "#     for i in range(0,len(grid_states)):\n",
    "#         print(grid_states[i].Q_val)\n",
    "    states = copy.deepcopy(grid_states)\n",
    "                    \n",
    "# print([i],\"  \",current_state.Q_val)"
   ]
  },
  {
   "cell_type": "code",
   "execution_count": 231,
   "id": "1ab12f3c",
   "metadata": {},
   "outputs": [
    {
     "name": "stdout",
     "output_type": "stream",
     "text": [
      "[0, 0, 0, 0]\n",
      "[0, 1.430416487870402, 2.8728265251743514, 1.430416487870402]\n",
      "[0, 0.7710505312912284, 2.2040234481799708, 0]\n",
      "[0, 0, 0, 0]\n",
      "[0, 0.1296540813271352, 0, 0]\n",
      "[0, 0, 0, 0]\n",
      "[2.2040234481799708, 0.7710505312912284, -1.9152176834495678, 0.7710505312912284]\n",
      "[1.430416487870402, 0.3454265704024156, 1.430416487870402, 0.3454265704024156]\n",
      "[0, 0.1296540813271352, 0.7710505312912284, 0.1296540813271352]\n",
      "[0.04117624317982215, 0.04117624317982215, 0.3454265704024156, 0]\n",
      "[-1.9152176834495678, 0, 0, 0.7710505312912284]\n",
      "[1.430416487870402, 0, 0.3454265704024156, 0.3454265704024156]\n",
      "[0.7710505312912284, 0, 0.7710505312912284, 0.1296540813271352]\n",
      "[0.3454265704024156, 0, 0.3454265704024156, 0.04117624317982215]\n",
      "[0.1296540813271352, 0, 0.1296540813271352, 0]\n"
     ]
    }
   ],
   "source": [
    "for i in range(0,len(grid_states)):\n",
    "    print(grid_states[i].Q_val)"
   ]
  },
  {
   "cell_type": "code",
   "execution_count": null,
   "id": "e8dfa1f1",
   "metadata": {},
   "outputs": [],
   "source": []
  }
 ],
 "metadata": {
  "kernelspec": {
   "display_name": "Python 3 (ipykernel)",
   "language": "python",
   "name": "python3"
  },
  "language_info": {
   "codemirror_mode": {
    "name": "ipython",
    "version": 3
   },
   "file_extension": ".py",
   "mimetype": "text/x-python",
   "name": "python",
   "nbconvert_exporter": "python",
   "pygments_lexer": "ipython3",
   "version": "3.9.7"
  }
 },
 "nbformat": 4,
 "nbformat_minor": 5
}
